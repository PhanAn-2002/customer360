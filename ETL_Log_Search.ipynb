{
 "cells": [
  {
   "cell_type": "code",
   "execution_count": 1,
   "metadata": {},
   "outputs": [],
   "source": [
    "from pyspark.sql import SparkSession\n",
    "from pyspark.sql import SQLContext\n",
    "from pyspark.sql.functions import when\n",
    "from pyspark.sql.functions import col\n",
    "from pyspark.sql.types import * \n",
    "from pyspark.sql.functions import lit\n",
    "import pyodbc\n",
    "import pandas as pd\n",
    "import pyspark.sql.functions as sf\n",
    "from datetime import date, timedelta\n",
    "import datetime"
   ]
  },
  {
   "cell_type": "code",
   "execution_count": 2,
   "metadata": {},
   "outputs": [],
   "source": [
    "spark = SparkSession.builder.config(\"spark.driver.memory\", \"15g\").getOrCreate()"
   ]
  },
  {
   "cell_type": "code",
   "execution_count": 3,
   "metadata": {},
   "outputs": [],
   "source": [
    "def generate_time_range_data(startdate,enddate):\n",
    "    format = '%Y-%m-%d'\n",
    "    day_time = []\n",
    "    startdate = datetime.datetime.strptime(startdate, format).date()\n",
    "    enddate = datetime.datetime.strptime(enddate, format).date()\n",
    "    delta = enddate - startdate\n",
    "    for i in range(delta.days + 1):\n",
    "        day = startdate + timedelta(days=i)\n",
    "        day = day.strftime('%Y%m%d')\n",
    "        day_time.append(str(day))\n",
    "    return day_time"
   ]
  },
  {
   "cell_type": "code",
   "execution_count": 4,
   "metadata": {},
   "outputs": [],
   "source": [
    "day_range = generate_time_range_data('2022-06-01','2022-06-14')\n",
    "path = \"C:\\\\Users\\\\ASUS\\\\OneDrive\\\\Big_Data_Analytics\\\\BigData_Gen1\\\\Class 4\\\\log_search\\\\\"\n",
    "df = spark.read.parquet('C:\\\\Users\\\\ASUS\\\\OneDrive\\\\Big_Data_Analytics\\\\BigData_Gen1\\\\Class 4\\\\log_search\\\\20220601')\n",
    "df = df.filter(df.user_id.isNotNull())\n",
    "df = df.select('datetime','user_id','keyword')\n",
    "result_t6 = df\n",
    "for i in day_range[1:]:\n",
    "    df1 = spark.read.parquet(path+i)\n",
    "    df1 = df1.filter(df1.user_id.isNotNull())\n",
    "    df1 = df1.select('datetime','user_id','keyword')\n",
    "    result_t6 = result_t6.union(df1)\n",
    "    \n",
    "    "
   ]
  },
  {
   "cell_type": "code",
   "execution_count": 5,
   "metadata": {},
   "outputs": [],
   "source": [
    "result_t6 = result_t6.drop(result_t6.datetime)\n",
    "result_t6 = result_t6.filter(result_t6.keyword.isNotNull())\n",
    "\n"
   ]
  },
  {
   "cell_type": "code",
   "execution_count": 6,
   "metadata": {},
   "outputs": [
    {
     "name": "stdout",
     "output_type": "stream",
     "text": [
      "+--------------------------------------------+-----+\n",
      "|keyword                                     |count|\n",
      "+--------------------------------------------+-----+\n",
      "|Liên Minh Công Lý: Phiên bản của Zack Snyder|8741 |\n",
      "|fairy tail                                  |6771 |\n",
      "|thiên nga bóng đêm                          |5471 |\n",
      "|sao băng                                    |4909 |\n",
      "|nữ thanh tra tài ba                         |4895 |\n",
      "|bắt ma phá án                               |4837 |\n",
      "|siêu nhân                                   |3938 |\n",
      "|mộng hoa lục                                |3411 |\n",
      "|cuộc chiến thượng lưu                       |3001 |\n",
      "|cô nàng trong trắng oh woo ri               |2950 |\n",
      "|vô tình nhặt được tổng tài                  |2646 |\n",
      "|hội pháp sư                                 |2556 |\n",
      "|tôi thấy hoa vàng trên cỏ xanh              |2540 |\n",
      "|why her?                                    |2449 |\n",
      "|lấy danh nghĩa người nhà                    |2443 |\n",
      "|bạn trai tôi là hồ ly                       |2304 |\n",
      "|cảnh đẹp ngày vui biết bao giờ              |2262 |\n",
      "|chàng hậu                                   |2226 |\n",
      "|yêu nhầm chị dâu                            |2179 |\n",
      "|Tìm kiếm bằng giọng nói                     |2105 |\n",
      "+--------------------------------------------+-----+\n",
      "only showing top 20 rows\n",
      "\n"
     ]
    }
   ],
   "source": [
    "result_t6.groupBy('keyword').count().orderBy(col('count').desc()).show(truncate=False)"
   ]
  },
  {
   "cell_type": "code",
   "execution_count": 16,
   "metadata": {},
   "outputs": [],
   "source": [
    "day_range = generate_time_range_data('2022-07-01','2022-07-14')\n",
    "path = \"C:\\\\Users\\\\ASUS\\\\OneDrive\\\\Big_Data_Analytics\\\\BigData_Gen1\\\\Class 4\\\\log_search\\\\\"\n",
    "df = spark.read.parquet('C:\\\\Users\\\\ASUS\\\\OneDrive\\\\Big_Data_Analytics\\\\BigData_Gen1\\\\Class 4\\\\log_search\\\\20220701')\n",
    "df = df.filter(df.user_id.isNotNull())\n",
    "df = df.select('datetime','user_id','keyword')\n",
    "result_t7 = df\n",
    "for i in day_range[1:]:\n",
    "    df1 = spark.read.parquet(path+i)\n",
    "    df1 = df1.filter(df1.user_id.isNotNull())\n",
    "    df1 = df1.select('datetime','user_id','keyword')\n",
    "    result_t7 = result_t7.union(df1)\n",
    "\n",
    "    \n",
    "    \n"
   ]
  },
  {
   "cell_type": "code",
   "execution_count": 17,
   "metadata": {
    "scrolled": false
   },
   "outputs": [],
   "source": [
    "result_t7 = result_t7.drop(result_t7.datetime)\n",
    "result_t7 = result_t7.filter(result_t7.keyword.isNotNull())\n"
   ]
  },
  {
   "cell_type": "code",
   "execution_count": 18,
   "metadata": {},
   "outputs": [
    {
     "name": "stdout",
     "output_type": "stream",
     "text": [
      "+--------------------------------------------+-----+\n",
      "|keyword                                     |count|\n",
      "+--------------------------------------------+-----+\n",
      "|Liên Minh Công Lý: Phiên bản của Zack Snyder|8774 |\n",
      "|fairy tail                                  |5596 |\n",
      "|thanh thanh tử khâm                         |4465 |\n",
      "|con tim sắt đá                              |4412 |\n",
      "|chàng hậu                                   |4096 |\n",
      "|thiên nga bóng đêm                          |3712 |\n",
      "|siêu nhân                                   |3638 |\n",
      "|yêu tinh                                    |3423 |\n",
      "|vẻ đẹp đích thực                            |3394 |\n",
      "|hội pháp sư                                 |2911 |\n",
      "|Tìm kiếm bằng giọng nói                     |2837 |\n",
      "|kẻ trộm mặt trăng: minions                  |2822 |\n",
      "|nhất kiến khuynh tâm                        |2802 |\n",
      "|tôi thấy hoa vàng trên cỏ xanh              |2743 |\n",
      "|Thử Thách Thần Tượng                        |2593 |\n",
      "|sao băng                                    |2468 |\n",
      "|Kẻ Trộm Mặt Trăng: Minions                  |2433 |\n",
      "|cuộc chiến thượng lưu                       |2281 |\n",
      "|minh châu rực rỡ                            |2224 |\n",
      "|anna                                        |2164 |\n",
      "+--------------------------------------------+-----+\n",
      "only showing top 20 rows\n",
      "\n"
     ]
    }
   ],
   "source": [
    "result_t7.groupBy('keyword').count().orderBy(col('count').desc()).show(truncate=False)\n"
   ]
  },
  {
   "cell_type": "code",
   "execution_count": 9,
   "metadata": {},
   "outputs": [],
   "source": [
    "from pyspark.sql.window import Window\n",
    "from pyspark.sql.functions import rank\n",
    "from pyspark.sql.functions import col"
   ]
  },
  {
   "cell_type": "code",
   "execution_count": 10,
   "metadata": {},
   "outputs": [],
   "source": [
    "window = Window.partitionBy(\"user_id\").orderBy(col('keyword').desc())"
   ]
  },
  {
   "cell_type": "code",
   "execution_count": 19,
   "metadata": {},
   "outputs": [],
   "source": [
    "rank_result_t6 = result_t6.withColumn('RANK',rank().over(window))"
   ]
  },
  {
   "cell_type": "code",
   "execution_count": 20,
   "metadata": {},
   "outputs": [],
   "source": [
    "rank_result_t7 = result_t7.withColumn('RANK',rank().over(window))"
   ]
  },
  {
   "cell_type": "code",
   "execution_count": 21,
   "metadata": {},
   "outputs": [
    {
     "name": "stdout",
     "output_type": "stream",
     "text": [
      "+-------+--------------------+----+\n",
      "|user_id|             keyword|RANK|\n",
      "+-------+--------------------+----+\n",
      "|0000402|xem phim nhan duy...|   1|\n",
      "|0000402|tieu nuong tu nha...|   2|\n",
      "|0027835|lời nói dối của h...|   1|\n",
      "|0027835|  lời nói dối của hồ|   2|\n",
      "|0027835|   lời nói dối của h|   3|\n",
      "|0027835|    lời nói dối của |   4|\n",
      "|0027835|     hạ cánh nơi anh|   5|\n",
      "|0027835|             another|   6|\n",
      "|0042335| tình anh quang dũng|   1|\n",
      "|0042335|            tình anh|   2|\n",
      "|0042335|pháp y tần minh: ...|   3|\n",
      "|0047402|                  aq|   1|\n",
      "|0062340|    quân tử lập thân|   1|\n",
      "|0062340|     lạp tội đồ giám|   2|\n",
      "|0062340|     lạp tội đồ giám|   2|\n",
      "|0145732|       again my life|   1|\n",
      "|0156279|           PLUNDERER|   1|\n",
      "|0156279|           PLUNDERER|   1|\n",
      "|0156279|           PLUNDERER|   1|\n",
      "|0156279|           PLUNDERER|   1|\n",
      "+-------+--------------------+----+\n",
      "only showing top 20 rows\n",
      "\n"
     ]
    }
   ],
   "source": [
    "rank_result_t6.show()"
   ]
  },
  {
   "cell_type": "code",
   "execution_count": 25,
   "metadata": {},
   "outputs": [
    {
     "name": "stdout",
     "output_type": "stream",
     "text": [
      "+-------+---------------------+----+\n",
      "|user_id|keyword              |RANK|\n",
      "+-------+---------------------+----+\n",
      "|0027835|lời nói dối của hồ ly|1   |\n",
      "|0027835|lời nói dối của hồ   |2   |\n",
      "|0027835|lời nói dối của h    |3   |\n",
      "|0027835|lời nói dối của      |4   |\n",
      "|0027835|hạ cánh nơi anh      |5   |\n",
      "|0027835|another              |6   |\n",
      "+-------+---------------------+----+\n",
      "\n"
     ]
    }
   ],
   "source": [
    "rank_result_t6.filter(rank_result_t6.user_id == '0027835').show(truncate=False)"
   ]
  },
  {
   "cell_type": "code",
   "execution_count": 28,
   "metadata": {},
   "outputs": [],
   "source": [
    "rank_result_t6 = rank_result_t6.filter(rank_result_t6.RANK == '1')"
   ]
  },
  {
   "cell_type": "code",
   "execution_count": 29,
   "metadata": {},
   "outputs": [],
   "source": [
    "rank_result_t7 = rank_result_t7.filter(rank_result_t7.RANK == '1')"
   ]
  },
  {
   "cell_type": "code",
   "execution_count": 35,
   "metadata": {},
   "outputs": [],
   "source": [
    "rank_result_t6 = rank_result_t6.distinct()"
   ]
  },
  {
   "cell_type": "code",
   "execution_count": 37,
   "metadata": {},
   "outputs": [
    {
     "name": "stdout",
     "output_type": "stream",
     "text": [
      "+-------+--------------------------------------------+----+\n",
      "|user_id|keyword                                     |RANK|\n",
      "+-------+--------------------------------------------+----+\n",
      "|0000402|xem phim nhan duyen tien dinh thailan       |1   |\n",
      "|0027835|lời nói dối của hồ ly                       |1   |\n",
      "|0042335|tình anh quang dũng                         |1   |\n",
      "|0047402|aq                                          |1   |\n",
      "|0062340|quân tử lập thân                            |1   |\n",
      "|0145732|again my life                               |1   |\n",
      "|0156279|PLUNDERER                                   |1   |\n",
      "|0164517|lee min ho                                  |1   |\n",
      "|016773 |Liên Minh Công Lý: Phiên bản của Zack Snyder|1   |\n",
      "|0201199|vagabond                                    |1   |\n",
      "|021135 |hồ sơ trinh sát                             |1   |\n",
      "|0221207|thư ký kim sa                              |1   |\n",
      "|0258539|animal                                      |1   |\n",
      "|0286702|đại mạc đao                                 |1   |\n",
      "|0339265|blackclover                                 |1   |\n",
      "|0393163|sao băng                                    |1   |\n",
      "|0429167|nu hon giac quan thu 6                      |1   |\n",
      "|0486350|lệnh cho trái tim ngừng yêu em              |1   |\n",
      "|0511795|REPLY 1988                                  |1   |\n",
      "|0537192|tài xế ẩn danh                              |1   |\n",
      "+-------+--------------------------------------------+----+\n",
      "only showing top 20 rows\n",
      "\n"
     ]
    }
   ],
   "source": [
    "rank_result_t6.show(truncate=False)"
   ]
  },
  {
   "cell_type": "code",
   "execution_count": 36,
   "metadata": {},
   "outputs": [],
   "source": [
    "rank_result_t7 = rank_result_t7.distinct()"
   ]
  },
  {
   "cell_type": "code",
   "execution_count": 38,
   "metadata": {},
   "outputs": [
    {
     "name": "stdout",
     "output_type": "stream",
     "text": [
      "+--------+-----------------------------------------------------+----+\n",
      "|user_id |keyword                                              |RANK|\n",
      "+--------+-----------------------------------------------------+----+\n",
      "|0000699 |thả thí                                              |1   |\n",
      "|0013936 |one pice                                             |1   |\n",
      "|0027835 |minh lan truyện                                      |1   |\n",
      "|0077738 |penthouse 3                                          |1   |\n",
      "|0152453 |d day                                                |1   |\n",
      "|0162317 |dhoom3                                               |1   |\n",
      "|0197583 |thap nhi dam                                         |1   |\n",
      "|0201199 |người thầy y đức 2                                   |1   |\n",
      "|0209346 |công tố viên chuyển sinh                             |1   |\n",
      "|0258467 |vẻ đẹp đích thực vietsub                             |1   |\n",
      "|0276520 |bất động sản Trường Sa                               |1   |\n",
      "|0292234 |DOREMO                                               |1   |\n",
      "|0461913 |bóng đá                                              |1   |\n",
      "|0473920 |batman v superman: dawn of justice (ultimate edition)|1   |\n",
      "|06009865|xuyên vào sách tôi muốn sống tới cùng                |1   |\n",
      "|06023968|khát vọng giàu sang                                  |1   |\n",
      "|06024778|tinh hà xán lan                                      |1   |\n",
      "|06037046|chú ơi em yêu anh thái lan tập 1                     |1   |\n",
      "|06041275|anna                                                 |1   |\n",
      "|06046161|minh châu rực rỡ                                     |1   |\n",
      "+--------+-----------------------------------------------------+----+\n",
      "only showing top 20 rows\n",
      "\n"
     ]
    }
   ],
   "source": [
    "rank_result_t7.show(truncate=False)"
   ]
  },
  {
   "cell_type": "code",
   "execution_count": 40,
   "metadata": {},
   "outputs": [],
   "source": [
    "result_t7 = rank_result_t7.toPandas()"
   ]
  },
  {
   "cell_type": "code",
   "execution_count": 47,
   "metadata": {},
   "outputs": [],
   "source": [
    "import mysql.connector\n",
    "import pandas as pd\n",
    "from sqlalchemy import create_engine"
   ]
  },
  {
   "cell_type": "code",
   "execution_count": 48,
   "metadata": {},
   "outputs": [],
   "source": [
    "user = 'root'\n",
    "password =''\n",
    "host = 'localhost'\n",
    "database = 'Data_Engineer'\n",
    "port = 3306\n",
    "url = 'mysql+mysqlconnector://{}:{}@{}:{}/{}'.format(user, password, host, port, database)\n",
    "engine = create_engine(url, echo=False)\n",
    "result_t7.to_sql(name='search_behaviour', con=engine, if_exists='append', chunksize=1000, index=False, method='multi')"
   ]
  },
  {
   "cell_type": "code",
   "execution_count": 49,
   "metadata": {},
   "outputs": [],
   "source": [
    "#cnx = mysql.connector.connect(user=user,password=password,host=host,database=database)\n",
    "#cursor = cnx.cursor()\n",
    "#sql = \"\"\"Insert into customer360 (Contract,Date,SportDuration,TVDuration,ChildDuration,RelaxDuration,MovieDuration,Most_Watch) Values (%s,%s,%s,%s,%s,%s,%s,%s)\"\"\"\n",
    "#cursor.executemany(sql,test.values.tolist())\n",
    "#cnx.commit()\n",
    "#print(\"Import Successfully\")"
   ]
  },
  {
   "cell_type": "code",
   "execution_count": 53,
   "metadata": {},
   "outputs": [],
   "source": [
    "cnx = mysql.connector.connect(user=user,password=password,host=host,database=database)"
   ]
  },
  {
   "cell_type": "code",
   "execution_count": 55,
   "metadata": {},
   "outputs": [],
   "source": [
    "customer360 = pd.read_sql(\"select * from customer360\", cnx)"
   ]
  },
  {
   "cell_type": "code",
   "execution_count": 56,
   "metadata": {},
   "outputs": [
    {
     "data": {
      "text/html": [
       "<div>\n",
       "<style scoped>\n",
       "    .dataframe tbody tr th:only-of-type {\n",
       "        vertical-align: middle;\n",
       "    }\n",
       "\n",
       "    .dataframe tbody tr th {\n",
       "        vertical-align: top;\n",
       "    }\n",
       "\n",
       "    .dataframe thead th {\n",
       "        text-align: right;\n",
       "    }\n",
       "</style>\n",
       "<table border=\"1\" class=\"dataframe\">\n",
       "  <thead>\n",
       "    <tr style=\"text-align: right;\">\n",
       "      <th></th>\n",
       "      <th>Contract</th>\n",
       "      <th>Date</th>\n",
       "      <th>SportDuration</th>\n",
       "      <th>TVDuration</th>\n",
       "      <th>ChildDuration</th>\n",
       "      <th>RelaxDuration</th>\n",
       "      <th>MovieDuration</th>\n",
       "      <th>Most_Watch</th>\n",
       "    </tr>\n",
       "  </thead>\n",
       "  <tbody>\n",
       "    <tr>\n",
       "      <th>0</th>\n",
       "      <td>AGAAA0520</td>\n",
       "      <td>2022-04-01</td>\n",
       "      <td>NaN</td>\n",
       "      <td>173458.0</td>\n",
       "      <td>NaN</td>\n",
       "      <td>NaN</td>\n",
       "      <td>447.0</td>\n",
       "      <td>Truyền Hình</td>\n",
       "    </tr>\n",
       "    <tr>\n",
       "      <th>1</th>\n",
       "      <td>AGAAA0663</td>\n",
       "      <td>2022-04-01</td>\n",
       "      <td>NaN</td>\n",
       "      <td>89001.0</td>\n",
       "      <td>NaN</td>\n",
       "      <td>NaN</td>\n",
       "      <td>NaN</td>\n",
       "      <td>Truyền Hình</td>\n",
       "    </tr>\n",
       "    <tr>\n",
       "      <th>2</th>\n",
       "      <td>AGAAA1058</td>\n",
       "      <td>2022-04-01</td>\n",
       "      <td>NaN</td>\n",
       "      <td>118784.0</td>\n",
       "      <td>NaN</td>\n",
       "      <td>NaN</td>\n",
       "      <td>NaN</td>\n",
       "      <td>Truyền Hình</td>\n",
       "    </tr>\n",
       "    <tr>\n",
       "      <th>3</th>\n",
       "      <td>AGAAA1238</td>\n",
       "      <td>2022-04-01</td>\n",
       "      <td>NaN</td>\n",
       "      <td>163158.0</td>\n",
       "      <td>NaN</td>\n",
       "      <td>NaN</td>\n",
       "      <td>NaN</td>\n",
       "      <td>Truyền Hình</td>\n",
       "    </tr>\n",
       "    <tr>\n",
       "      <th>4</th>\n",
       "      <td>AGAAA1572</td>\n",
       "      <td>2022-04-01</td>\n",
       "      <td>NaN</td>\n",
       "      <td>27309.0</td>\n",
       "      <td>NaN</td>\n",
       "      <td>NaN</td>\n",
       "      <td>NaN</td>\n",
       "      <td>Truyền Hình</td>\n",
       "    </tr>\n",
       "    <tr>\n",
       "      <th>...</th>\n",
       "      <td>...</td>\n",
       "      <td>...</td>\n",
       "      <td>...</td>\n",
       "      <td>...</td>\n",
       "      <td>...</td>\n",
       "      <td>...</td>\n",
       "      <td>...</td>\n",
       "      <td>...</td>\n",
       "    </tr>\n",
       "    <tr>\n",
       "      <th>1995</th>\n",
       "      <td>DNH055557</td>\n",
       "      <td>2022-04-01</td>\n",
       "      <td>NaN</td>\n",
       "      <td>1342851.0</td>\n",
       "      <td>NaN</td>\n",
       "      <td>NaN</td>\n",
       "      <td>NaN</td>\n",
       "      <td>Truyền Hình</td>\n",
       "    </tr>\n",
       "    <tr>\n",
       "      <th>1996</th>\n",
       "      <td>DNH055743</td>\n",
       "      <td>2022-04-01</td>\n",
       "      <td>NaN</td>\n",
       "      <td>20794.0</td>\n",
       "      <td>1533.0</td>\n",
       "      <td>NaN</td>\n",
       "      <td>NaN</td>\n",
       "      <td>Truyền Hình</td>\n",
       "    </tr>\n",
       "    <tr>\n",
       "      <th>1997</th>\n",
       "      <td>DNH055859</td>\n",
       "      <td>2022-04-01</td>\n",
       "      <td>NaN</td>\n",
       "      <td>73500.0</td>\n",
       "      <td>NaN</td>\n",
       "      <td>NaN</td>\n",
       "      <td>NaN</td>\n",
       "      <td>Truyền Hình</td>\n",
       "    </tr>\n",
       "    <tr>\n",
       "      <th>1998</th>\n",
       "      <td>DNH055977</td>\n",
       "      <td>2022-04-01</td>\n",
       "      <td>NaN</td>\n",
       "      <td>11006.0</td>\n",
       "      <td>NaN</td>\n",
       "      <td>NaN</td>\n",
       "      <td>NaN</td>\n",
       "      <td>Truyền Hình</td>\n",
       "    </tr>\n",
       "    <tr>\n",
       "      <th>1999</th>\n",
       "      <td>DNH056752</td>\n",
       "      <td>2022-04-01</td>\n",
       "      <td>NaN</td>\n",
       "      <td>15026.0</td>\n",
       "      <td>NaN</td>\n",
       "      <td>NaN</td>\n",
       "      <td>2767.0</td>\n",
       "      <td>Truyền Hình</td>\n",
       "    </tr>\n",
       "  </tbody>\n",
       "</table>\n",
       "<p>2000 rows × 8 columns</p>\n",
       "</div>"
      ],
      "text/plain": [
       "       Contract        Date  SportDuration  TVDuration  ChildDuration  \\\n",
       "0     AGAAA0520  2022-04-01            NaN    173458.0            NaN   \n",
       "1     AGAAA0663  2022-04-01            NaN     89001.0            NaN   \n",
       "2     AGAAA1058  2022-04-01            NaN    118784.0            NaN   \n",
       "3     AGAAA1238  2022-04-01            NaN    163158.0            NaN   \n",
       "4     AGAAA1572  2022-04-01            NaN     27309.0            NaN   \n",
       "...         ...         ...            ...         ...            ...   \n",
       "1995  DNH055557  2022-04-01            NaN   1342851.0            NaN   \n",
       "1996  DNH055743  2022-04-01            NaN     20794.0         1533.0   \n",
       "1997  DNH055859  2022-04-01            NaN     73500.0            NaN   \n",
       "1998  DNH055977  2022-04-01            NaN     11006.0            NaN   \n",
       "1999  DNH056752  2022-04-01            NaN     15026.0            NaN   \n",
       "\n",
       "      RelaxDuration  MovieDuration   Most_Watch  \n",
       "0               NaN          447.0  Truyền Hình  \n",
       "1               NaN            NaN  Truyền Hình  \n",
       "2               NaN            NaN  Truyền Hình  \n",
       "3               NaN            NaN  Truyền Hình  \n",
       "4               NaN            NaN  Truyền Hình  \n",
       "...             ...            ...          ...  \n",
       "1995            NaN            NaN  Truyền Hình  \n",
       "1996            NaN            NaN  Truyền Hình  \n",
       "1997            NaN            NaN  Truyền Hình  \n",
       "1998            NaN            NaN  Truyền Hình  \n",
       "1999            NaN         2767.0  Truyền Hình  \n",
       "\n",
       "[2000 rows x 8 columns]"
      ]
     },
     "execution_count": 56,
     "metadata": {},
     "output_type": "execute_result"
    }
   ],
   "source": [
    "customer360"
   ]
  },
  {
   "cell_type": "code",
   "execution_count": 60,
   "metadata": {},
   "outputs": [],
   "source": [
    "log_search_summary = result_t7[0:2000]"
   ]
  },
  {
   "cell_type": "code",
   "execution_count": 63,
   "metadata": {},
   "outputs": [],
   "source": [
    "final_data = pd.concat([customer360,log_search_summary],axis = 1 )"
   ]
  },
  {
   "cell_type": "code",
   "execution_count": 66,
   "metadata": {},
   "outputs": [],
   "source": [
    "final_data.drop(columns=['user_id','RANK'],inplace=True)"
   ]
  },
  {
   "cell_type": "code",
   "execution_count": 69,
   "metadata": {},
   "outputs": [],
   "source": [
    "final_data.rename(columns={'keyword':'Most_Searched'},inplace=True)"
   ]
  },
  {
   "cell_type": "code",
   "execution_count": 73,
   "metadata": {},
   "outputs": [
    {
     "data": {
      "text/html": [
       "<div>\n",
       "<style scoped>\n",
       "    .dataframe tbody tr th:only-of-type {\n",
       "        vertical-align: middle;\n",
       "    }\n",
       "\n",
       "    .dataframe tbody tr th {\n",
       "        vertical-align: top;\n",
       "    }\n",
       "\n",
       "    .dataframe thead th {\n",
       "        text-align: right;\n",
       "    }\n",
       "</style>\n",
       "<table border=\"1\" class=\"dataframe\">\n",
       "  <thead>\n",
       "    <tr style=\"text-align: right;\">\n",
       "      <th></th>\n",
       "      <th>Contract</th>\n",
       "      <th>Date</th>\n",
       "      <th>SportDuration</th>\n",
       "      <th>TVDuration</th>\n",
       "      <th>ChildDuration</th>\n",
       "      <th>RelaxDuration</th>\n",
       "      <th>MovieDuration</th>\n",
       "      <th>Most_Watch</th>\n",
       "      <th>Most_Searched</th>\n",
       "    </tr>\n",
       "  </thead>\n",
       "  <tbody>\n",
       "    <tr>\n",
       "      <th>0</th>\n",
       "      <td>AGAAA0520</td>\n",
       "      <td>2022-04-01</td>\n",
       "      <td>NaN</td>\n",
       "      <td>173458.0</td>\n",
       "      <td>NaN</td>\n",
       "      <td>NaN</td>\n",
       "      <td>447.0</td>\n",
       "      <td>Truyền Hình</td>\n",
       "      <td>thả thí</td>\n",
       "    </tr>\n",
       "    <tr>\n",
       "      <th>1</th>\n",
       "      <td>AGAAA0663</td>\n",
       "      <td>2022-04-01</td>\n",
       "      <td>NaN</td>\n",
       "      <td>89001.0</td>\n",
       "      <td>NaN</td>\n",
       "      <td>NaN</td>\n",
       "      <td>NaN</td>\n",
       "      <td>Truyền Hình</td>\n",
       "      <td>one pice</td>\n",
       "    </tr>\n",
       "    <tr>\n",
       "      <th>2</th>\n",
       "      <td>AGAAA1058</td>\n",
       "      <td>2022-04-01</td>\n",
       "      <td>NaN</td>\n",
       "      <td>118784.0</td>\n",
       "      <td>NaN</td>\n",
       "      <td>NaN</td>\n",
       "      <td>NaN</td>\n",
       "      <td>Truyền Hình</td>\n",
       "      <td>minh lan truyện</td>\n",
       "    </tr>\n",
       "    <tr>\n",
       "      <th>3</th>\n",
       "      <td>AGAAA1238</td>\n",
       "      <td>2022-04-01</td>\n",
       "      <td>NaN</td>\n",
       "      <td>163158.0</td>\n",
       "      <td>NaN</td>\n",
       "      <td>NaN</td>\n",
       "      <td>NaN</td>\n",
       "      <td>Truyền Hình</td>\n",
       "      <td>penthouse 3</td>\n",
       "    </tr>\n",
       "    <tr>\n",
       "      <th>4</th>\n",
       "      <td>AGAAA1572</td>\n",
       "      <td>2022-04-01</td>\n",
       "      <td>NaN</td>\n",
       "      <td>27309.0</td>\n",
       "      <td>NaN</td>\n",
       "      <td>NaN</td>\n",
       "      <td>NaN</td>\n",
       "      <td>Truyền Hình</td>\n",
       "      <td>d day</td>\n",
       "    </tr>\n",
       "    <tr>\n",
       "      <th>...</th>\n",
       "      <td>...</td>\n",
       "      <td>...</td>\n",
       "      <td>...</td>\n",
       "      <td>...</td>\n",
       "      <td>...</td>\n",
       "      <td>...</td>\n",
       "      <td>...</td>\n",
       "      <td>...</td>\n",
       "      <td>...</td>\n",
       "    </tr>\n",
       "    <tr>\n",
       "      <th>1995</th>\n",
       "      <td>DNH055557</td>\n",
       "      <td>2022-04-01</td>\n",
       "      <td>NaN</td>\n",
       "      <td>1342851.0</td>\n",
       "      <td>NaN</td>\n",
       "      <td>NaN</td>\n",
       "      <td>NaN</td>\n",
       "      <td>Truyền Hình</td>\n",
       "      <td>phim kiếm hiệp</td>\n",
       "    </tr>\n",
       "    <tr>\n",
       "      <th>1996</th>\n",
       "      <td>DNH055743</td>\n",
       "      <td>2022-04-01</td>\n",
       "      <td>NaN</td>\n",
       "      <td>20794.0</td>\n",
       "      <td>1533.0</td>\n",
       "      <td>NaN</td>\n",
       "      <td>NaN</td>\n",
       "      <td>Truyền Hình</td>\n",
       "      <td>đấu pha thung khung</td>\n",
       "    </tr>\n",
       "    <tr>\n",
       "      <th>1997</th>\n",
       "      <td>DNH055859</td>\n",
       "      <td>2022-04-01</td>\n",
       "      <td>NaN</td>\n",
       "      <td>73500.0</td>\n",
       "      <td>NaN</td>\n",
       "      <td>NaN</td>\n",
       "      <td>NaN</td>\n",
       "      <td>Truyền Hình</td>\n",
       "      <td>vietnam malaisia</td>\n",
       "    </tr>\n",
       "    <tr>\n",
       "      <th>1998</th>\n",
       "      <td>DNH055977</td>\n",
       "      <td>2022-04-01</td>\n",
       "      <td>NaN</td>\n",
       "      <td>11006.0</td>\n",
       "      <td>NaN</td>\n",
       "      <td>NaN</td>\n",
       "      <td>NaN</td>\n",
       "      <td>Truyền Hình</td>\n",
       "      <td>eve</td>\n",
       "    </tr>\n",
       "    <tr>\n",
       "      <th>1999</th>\n",
       "      <td>DNH056752</td>\n",
       "      <td>2022-04-01</td>\n",
       "      <td>NaN</td>\n",
       "      <td>15026.0</td>\n",
       "      <td>NaN</td>\n",
       "      <td>NaN</td>\n",
       "      <td>2767.0</td>\n",
       "      <td>Truyền Hình</td>\n",
       "      <td>i land</td>\n",
       "    </tr>\n",
       "  </tbody>\n",
       "</table>\n",
       "<p>2000 rows × 9 columns</p>\n",
       "</div>"
      ],
      "text/plain": [
       "       Contract        Date  SportDuration  TVDuration  ChildDuration  \\\n",
       "0     AGAAA0520  2022-04-01            NaN    173458.0            NaN   \n",
       "1     AGAAA0663  2022-04-01            NaN     89001.0            NaN   \n",
       "2     AGAAA1058  2022-04-01            NaN    118784.0            NaN   \n",
       "3     AGAAA1238  2022-04-01            NaN    163158.0            NaN   \n",
       "4     AGAAA1572  2022-04-01            NaN     27309.0            NaN   \n",
       "...         ...         ...            ...         ...            ...   \n",
       "1995  DNH055557  2022-04-01            NaN   1342851.0            NaN   \n",
       "1996  DNH055743  2022-04-01            NaN     20794.0         1533.0   \n",
       "1997  DNH055859  2022-04-01            NaN     73500.0            NaN   \n",
       "1998  DNH055977  2022-04-01            NaN     11006.0            NaN   \n",
       "1999  DNH056752  2022-04-01            NaN     15026.0            NaN   \n",
       "\n",
       "      RelaxDuration  MovieDuration   Most_Watch        Most_Searched  \n",
       "0               NaN          447.0  Truyền Hình              thả thí  \n",
       "1               NaN            NaN  Truyền Hình             one pice  \n",
       "2               NaN            NaN  Truyền Hình      minh lan truyện  \n",
       "3               NaN            NaN  Truyền Hình          penthouse 3  \n",
       "4               NaN            NaN  Truyền Hình                d day  \n",
       "...             ...            ...          ...                  ...  \n",
       "1995            NaN            NaN  Truyền Hình       phim kiếm hiệp  \n",
       "1996            NaN            NaN  Truyền Hình  đấu pha thung khung  \n",
       "1997            NaN            NaN  Truyền Hình     vietnam malaisia  \n",
       "1998            NaN            NaN  Truyền Hình                  eve  \n",
       "1999            NaN         2767.0  Truyền Hình               i land  \n",
       "\n",
       "[2000 rows x 9 columns]"
      ]
     },
     "execution_count": 73,
     "metadata": {},
     "output_type": "execute_result"
    }
   ],
   "source": [
    "final_data"
   ]
  },
  {
   "cell_type": "code",
   "execution_count": 72,
   "metadata": {},
   "outputs": [],
   "source": [
    "#final_data.to_csv('C:\\\\Users\\\\ASUS\\\\OneDrive\\\\Big_Data_Analytics\\\\BigData_Gen1\\\\Class 7\\\\final_output.csv')"
   ]
  }
 ],
 "metadata": {
  "kernelspec": {
   "display_name": "Python 3",
   "language": "python",
   "name": "python3"
  },
  "language_info": {
   "codemirror_mode": {
    "name": "ipython",
    "version": 3
   },
   "file_extension": ".py",
   "mimetype": "text/x-python",
   "name": "python",
   "nbconvert_exporter": "python",
   "pygments_lexer": "ipython3",
   "version": "3.8.3"
  }
 },
 "nbformat": 4,
 "nbformat_minor": 4
}
